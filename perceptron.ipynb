{
 "cells": [
  {
   "cell_type": "markdown",
   "metadata": {},
   "source": [
    "# Perceptron Machine Learning Model"
   ]
  },
  {
   "cell_type": "code",
   "execution_count": 1,
   "metadata": {},
   "outputs": [],
   "source": [
    "#Make necessary imports\n",
    "import numpy as np"
   ]
  },
  {
   "cell_type": "code",
   "execution_count": 2,
   "metadata": {},
   "outputs": [
    {
     "name": "stdout",
     "output_type": "stream",
     "text": [
      "inputs: [1. 0. 1. 1.] targets: 0 weights: [0. 1. 0. 0.] net: 3.0 output: 1.0 weight_change: [-1. -0. -1. -1.]\n",
      "inputs: [1.  0.5 0.  1. ] targets: 0 weights: [-1.   0.5  0.  -1. ] net: 0.5 output: 1.0 weight_change: [-1.  -0.5 -0.  -1. ]\n",
      "inputs: [ 1.  -0.4  1.   1. ] targets: 1 weights: [0.  0.1 1.  0. ] net: -2.2 output: 0.0 weight_change: [ 1.  -0.4  1.   1. ]\n",
      "inputs: [0.  1.  0.5 1. ] targets: 1 weights: [0.  0.1 1.  0. ] net: 0.6 output: 1.0 weight_change: [0. 0. 0. 0.]\n",
      "---------------------------------\n"
     ]
    }
   ],
   "source": [
    "import numpy as np\n",
    "\n",
    "inputs = np.array([[1, 0, 1, 1],\n",
    "                  [1, 0.5, 0, 1],\n",
    "                  [1, -0.4, 1, 1],\n",
    "                  [0, 1, 0.5, 1]])\n",
    "target = np.array([0, 0, 1, 1])\n",
    "starting_weights = np.array([1.0, 1.0, 1.0, 1.0])  # Convert weights to float\n",
    "\n",
    "def perceptron(inputs, targets, weights, learning_rate=1):\n",
    "    output = np.zeros(len(targets))  # Initialize output to zeros outside the loop\n",
    "    while not np.array_equal(targets, output):\n",
    "        for i in range(len(inputs)):\n",
    "            net = np.dot(inputs[i], weights)\n",
    "            if net > 0:\n",
    "                output[i] = 1\n",
    "            if output[i] != targets[i]:\n",
    "                weights += learning_rate * (targets[i] - output[i]) * inputs[i]\n",
    "            print(f'inputs: {inputs[i]} targets: {targets[i]} weights: {weights} net: {net} output: {output[i]} weight_change: {learning_rate * (targets[i] - output[i]) * inputs[i]}')\n",
    "        if not np.array_equal(targets, output):\n",
    "            print('---------------------------------')\n",
    "            break\n",
    "\n",
    "        else:\n",
    "            return weights\n",
    "\n",
    "perceptron(inputs, target, starting_weights)"
   ]
  }
 ],
 "metadata": {
  "kernelspec": {
   "display_name": "Python 3",
   "language": "python",
   "name": "python3"
  },
  "language_info": {
   "codemirror_mode": {
    "name": "ipython",
    "version": 3
   },
   "file_extension": ".py",
   "mimetype": "text/x-python",
   "name": "python",
   "nbconvert_exporter": "python",
   "pygments_lexer": "ipython3",
   "version": "3.11.3"
  },
  "orig_nbformat": 4
 },
 "nbformat": 4,
 "nbformat_minor": 2
}
